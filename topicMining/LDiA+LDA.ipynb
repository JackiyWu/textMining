{
 "cells": [
  {
   "cell_type": "markdown",
   "metadata": {},
   "source": [
    "1.读取数据"
   ]
  },
  {
   "cell_type": "code",
   "execution_count": null,
   "metadata": {},
   "outputs": [],
   "source": [
    "from sklearn.feature_extraction.text import CountVectorizer\n",
    "from nltk.tokenize import casual_tokenize\n",
    "import numpy as np\n",
    "import pandas as pd"
   ]
  },
  {
   "cell_type": "code",
   "execution_count": 3,
   "metadata": {},
   "outputs": [],
   "source": [
    "sms=pd.read_csv('dataset/sms-spam.csv')"
   ]
  },
  {
   "cell_type": "code",
   "execution_count": 4,
   "metadata": {},
   "outputs": [
    {
     "data": {
      "text/html": [
       "<div>\n",
       "<style scoped>\n",
       "    .dataframe tbody tr th:only-of-type {\n",
       "        vertical-align: middle;\n",
       "    }\n",
       "\n",
       "    .dataframe tbody tr th {\n",
       "        vertical-align: top;\n",
       "    }\n",
       "\n",
       "    .dataframe thead th {\n",
       "        text-align: right;\n",
       "    }\n",
       "</style>\n",
       "<table border=\"1\" class=\"dataframe\">\n",
       "  <thead>\n",
       "    <tr style=\"text-align: right;\">\n",
       "      <th></th>\n",
       "      <th>Unnamed: 0</th>\n",
       "      <th>spam</th>\n",
       "      <th>text</th>\n",
       "    </tr>\n",
       "  </thead>\n",
       "  <tbody>\n",
       "    <tr>\n",
       "      <th>0</th>\n",
       "      <td>0</td>\n",
       "      <td>0</td>\n",
       "      <td>Go until jurong point, crazy.. Available only ...</td>\n",
       "    </tr>\n",
       "    <tr>\n",
       "      <th>1</th>\n",
       "      <td>1</td>\n",
       "      <td>0</td>\n",
       "      <td>Ok lar... Joking wif u oni...</td>\n",
       "    </tr>\n",
       "    <tr>\n",
       "      <th>2</th>\n",
       "      <td>2</td>\n",
       "      <td>1</td>\n",
       "      <td>Free entry in 2 a wkly comp to win FA Cup fina...</td>\n",
       "    </tr>\n",
       "    <tr>\n",
       "      <th>3</th>\n",
       "      <td>3</td>\n",
       "      <td>0</td>\n",
       "      <td>U dun say so early hor... U c already then say...</td>\n",
       "    </tr>\n",
       "    <tr>\n",
       "      <th>4</th>\n",
       "      <td>4</td>\n",
       "      <td>0</td>\n",
       "      <td>Nah I don't think he goes to usf, he lives aro...</td>\n",
       "    </tr>\n",
       "    <tr>\n",
       "      <th>5</th>\n",
       "      <td>5</td>\n",
       "      <td>1</td>\n",
       "      <td>FreeMsg Hey there darling it's been 3 week's n...</td>\n",
       "    </tr>\n",
       "    <tr>\n",
       "      <th>6</th>\n",
       "      <td>6</td>\n",
       "      <td>0</td>\n",
       "      <td>Even my brother is not like to speak with me. ...</td>\n",
       "    </tr>\n",
       "    <tr>\n",
       "      <th>7</th>\n",
       "      <td>7</td>\n",
       "      <td>0</td>\n",
       "      <td>As per your request 'Melle Melle (Oru Minnamin...</td>\n",
       "    </tr>\n",
       "    <tr>\n",
       "      <th>8</th>\n",
       "      <td>8</td>\n",
       "      <td>1</td>\n",
       "      <td>WINNER!! As a valued network customer you have...</td>\n",
       "    </tr>\n",
       "    <tr>\n",
       "      <th>9</th>\n",
       "      <td>9</td>\n",
       "      <td>1</td>\n",
       "      <td>Had your mobile 11 months or more? U R entitle...</td>\n",
       "    </tr>\n",
       "    <tr>\n",
       "      <th>10</th>\n",
       "      <td>10</td>\n",
       "      <td>0</td>\n",
       "      <td>I'm gonna be home soon and i don't want to tal...</td>\n",
       "    </tr>\n",
       "    <tr>\n",
       "      <th>11</th>\n",
       "      <td>11</td>\n",
       "      <td>1</td>\n",
       "      <td>SIX chances to win CASH! From 100 to 20,000 po...</td>\n",
       "    </tr>\n",
       "    <tr>\n",
       "      <th>12</th>\n",
       "      <td>12</td>\n",
       "      <td>1</td>\n",
       "      <td>URGENT! You have won a 1 week FREE membership ...</td>\n",
       "    </tr>\n",
       "    <tr>\n",
       "      <th>13</th>\n",
       "      <td>13</td>\n",
       "      <td>0</td>\n",
       "      <td>I've been searching for the right words to tha...</td>\n",
       "    </tr>\n",
       "    <tr>\n",
       "      <th>14</th>\n",
       "      <td>14</td>\n",
       "      <td>0</td>\n",
       "      <td>I HAVE A DATE ON SUNDAY WITH WILL!!</td>\n",
       "    </tr>\n",
       "    <tr>\n",
       "      <th>15</th>\n",
       "      <td>15</td>\n",
       "      <td>1</td>\n",
       "      <td>XXXMobileMovieClub: To use your credit, click ...</td>\n",
       "    </tr>\n",
       "    <tr>\n",
       "      <th>16</th>\n",
       "      <td>16</td>\n",
       "      <td>0</td>\n",
       "      <td>Oh k...i'm watching here:)</td>\n",
       "    </tr>\n",
       "    <tr>\n",
       "      <th>17</th>\n",
       "      <td>17</td>\n",
       "      <td>0</td>\n",
       "      <td>Eh u remember how 2 spell his name... Yes i di...</td>\n",
       "    </tr>\n",
       "    <tr>\n",
       "      <th>18</th>\n",
       "      <td>18</td>\n",
       "      <td>0</td>\n",
       "      <td>Fine if thats the way u feel. Thats the way ...</td>\n",
       "    </tr>\n",
       "    <tr>\n",
       "      <th>19</th>\n",
       "      <td>19</td>\n",
       "      <td>1</td>\n",
       "      <td>England v Macedonia - dont miss the goals/team...</td>\n",
       "    </tr>\n",
       "  </tbody>\n",
       "</table>\n",
       "</div>"
      ],
      "text/plain": [
       "    Unnamed: 0  spam                                               text\n",
       "0            0     0  Go until jurong point, crazy.. Available only ...\n",
       "1            1     0                      Ok lar... Joking wif u oni...\n",
       "2            2     1  Free entry in 2 a wkly comp to win FA Cup fina...\n",
       "3            3     0  U dun say so early hor... U c already then say...\n",
       "4            4     0  Nah I don't think he goes to usf, he lives aro...\n",
       "5            5     1  FreeMsg Hey there darling it's been 3 week's n...\n",
       "6            6     0  Even my brother is not like to speak with me. ...\n",
       "7            7     0  As per your request 'Melle Melle (Oru Minnamin...\n",
       "8            8     1  WINNER!! As a valued network customer you have...\n",
       "9            9     1  Had your mobile 11 months or more? U R entitle...\n",
       "10          10     0  I'm gonna be home soon and i don't want to tal...\n",
       "11          11     1  SIX chances to win CASH! From 100 to 20,000 po...\n",
       "12          12     1  URGENT! You have won a 1 week FREE membership ...\n",
       "13          13     0  I've been searching for the right words to tha...\n",
       "14          14     0                I HAVE A DATE ON SUNDAY WITH WILL!!\n",
       "15          15     1  XXXMobileMovieClub: To use your credit, click ...\n",
       "16          16     0                         Oh k...i'm watching here:)\n",
       "17          17     0  Eh u remember how 2 spell his name... Yes i di...\n",
       "18          18     0  Fine if thats the way u feel. Thats the way ...\n",
       "19          19     1  England v Macedonia - dont miss the goals/team..."
      ]
     },
     "execution_count": 4,
     "metadata": {},
     "output_type": "execute_result"
    }
   ],
   "source": [
    "sms.head(20)"
   ]
  },
  {
   "cell_type": "code",
   "execution_count": 7,
   "metadata": {},
   "outputs": [
    {
     "data": {
      "text/plain": [
       "(4837, 3)"
      ]
     },
     "execution_count": 7,
     "metadata": {},
     "output_type": "execute_result"
    }
   ],
   "source": [
    "sms.shape"
   ]
  },
  {
   "cell_type": "markdown",
   "metadata": {},
   "source": [
    "处理数据"
   ]
  },
  {
   "cell_type": "code",
   "execution_count": 8,
   "metadata": {},
   "outputs": [],
   "source": [
    "##向短消息的索引号后面添加一个感叹号，以使垃圾短消息更容易被发现\n",
    "index=['sms{}{}'.format(i, '!'*j) for (i,j) in zip(range(len(sms)), sms.spam)]"
   ]
  },
  {
   "cell_type": "code",
   "execution_count": 9,
   "metadata": {},
   "outputs": [],
   "source": [
    "sms.index = index"
   ]
  },
  {
   "cell_type": "code",
   "execution_count": 10,
   "metadata": {},
   "outputs": [
    {
     "name": "stdout",
     "output_type": "stream",
     "text": [
      "       Unnamed: 0  spam                                               text\n",
      "sms0            0     0  Go until jurong point, crazy.. Available only ...\n",
      "sms1            1     0                      Ok lar... Joking wif u oni...\n",
      "sms2!           2     1  Free entry in 2 a wkly comp to win FA Cup fina...\n",
      "sms3            3     0  U dun say so early hor... U c already then say...\n",
      "sms4            4     0  Nah I don't think he goes to usf, he lives aro...\n",
      "sms5!           5     1  FreeMsg Hey there darling it's been 3 week's n...\n"
     ]
    }
   ],
   "source": [
    "print(sms.head(6))"
   ]
  },
  {
   "cell_type": "markdown",
   "metadata": {},
   "source": [
    "计算词袋向量"
   ]
  },
  {
   "cell_type": "code",
   "execution_count": 24,
   "metadata": {},
   "outputs": [],
   "source": [
    "# 计算词袋向量\n",
    "np.random.seed(42)\n",
    "counter = CountVectorizer(tokenizer=casual_tokenize) ##对每个训练文本，只考虑每种词汇在该训练文本中出现的频率\n",
    "## CountVectorizer会将文本中的词语转化为词频矩阵，它通过fit_transform函数计算各个词语出现的次数\n",
    "bow_docs = pd.DataFrame(counter.fit_transform(raw_documents=sms.text).toarray(), index=index)\n",
    "column_nums, terms = zip(*sorted(zip(counter.vocabulary_.values(), counter.vocabulary_.keys())))\n",
    "bow_docs.columns = terms\n"
   ]
  },
  {
   "cell_type": "markdown",
   "metadata": {},
   "source": [
    "再次检查，看这里的词频是否对标记为“sms0”有意义"
   ]
  },
  {
   "cell_type": "code",
   "execution_count": 25,
   "metadata": {},
   "outputs": [
    {
     "name": "stdout",
     "output_type": "stream",
     "text": [
      "Go until jurong point, crazy.. Available only in bugis n great world la e buffet... Cine there got amore wat...\n"
     ]
    }
   ],
   "source": [
    "# 看看对标记为“sms0”的第一条短消息\n",
    "print(sms.loc['sms0'].text)\n"
   ]
  },
  {
   "cell_type": "code",
   "execution_count": 26,
   "metadata": {},
   "outputs": [
    {
     "name": "stdout",
     "output_type": "stream",
     "text": [
      ",            1\n",
      "..           1\n",
      "...          2\n",
      "amore        1\n",
      "available    1\n",
      "Name: sms0, dtype: int64\n"
     ]
    }
   ],
   "source": [
    "print( bow_docs.loc['sms0'][bow_docs.loc['sms0'] > 0].head())"
   ]
  },
  {
   "cell_type": "markdown",
   "metadata": {},
   "source": [
    "用LDIA为短消息语料库创建主题"
   ]
  },
  {
   "cell_type": "code",
   "execution_count": 27,
   "metadata": {},
   "outputs": [],
   "source": [
    "from sklearn.decomposition import LatentDirichletAllocation as LDiA"
   ]
  },
  {
   "cell_type": "code",
   "execution_count": 28,
   "metadata": {},
   "outputs": [],
   "source": [
    "ldia = LDiA(n_components=16, learning_method='batch')\n",
    "ldia = ldia.fit(bow_docs)"
   ]
  },
  {
   "cell_type": "code",
   "execution_count": 29,
   "metadata": {},
   "outputs": [
    {
     "data": {
      "text/plain": [
       "(16, 9232)"
      ]
     },
     "execution_count": 29,
     "metadata": {},
     "output_type": "execute_result"
    }
   ],
   "source": [
    "ldia.components_.shape"
   ]
  },
  {
   "cell_type": "markdown",
   "metadata": {},
   "source": [
    "因此上述模型已经将9232个词 分配给16个主题"
   ]
  },
  {
   "cell_type": "code",
   "execution_count": 30,
   "metadata": {},
   "outputs": [],
   "source": [
    "# 看看开头的几个词，我们了解一下它们是如何分配到 16 个主题中的。\n",
    "pd.set_option('display.width', 75)  ##横向最多显示75个字符\n",
    "columns = ['topic{}'.format(i) for i in range(ldia.n_components)]\n",
    "components = pd.DataFrame(ldia.components_.T, index=terms, columns=columns)"
   ]
  },
  {
   "cell_type": "code",
   "execution_count": 35,
   "metadata": {},
   "outputs": [
    {
     "data": {
      "text/html": [
       "<div>\n",
       "<style scoped>\n",
       "    .dataframe tbody tr th:only-of-type {\n",
       "        vertical-align: middle;\n",
       "    }\n",
       "\n",
       "    .dataframe tbody tr th {\n",
       "        vertical-align: top;\n",
       "    }\n",
       "\n",
       "    .dataframe thead th {\n",
       "        text-align: right;\n",
       "    }\n",
       "</style>\n",
       "<table border=\"1\" class=\"dataframe\">\n",
       "  <thead>\n",
       "    <tr style=\"text-align: right;\">\n",
       "      <th></th>\n",
       "      <th>topic0</th>\n",
       "      <th>topic1</th>\n",
       "      <th>topic2</th>\n",
       "      <th>topic3</th>\n",
       "      <th>topic4</th>\n",
       "      <th>topic5</th>\n",
       "      <th>topic6</th>\n",
       "      <th>topic7</th>\n",
       "      <th>topic8</th>\n",
       "      <th>topic9</th>\n",
       "      <th>topic10</th>\n",
       "      <th>topic11</th>\n",
       "      <th>topic12</th>\n",
       "      <th>topic13</th>\n",
       "      <th>topic14</th>\n",
       "      <th>topic15</th>\n",
       "    </tr>\n",
       "  </thead>\n",
       "  <tbody>\n",
       "    <tr>\n",
       "      <th>!</th>\n",
       "      <td>184.03</td>\n",
       "      <td>15.00</td>\n",
       "      <td>72.22</td>\n",
       "      <td>394.95</td>\n",
       "      <td>45.48</td>\n",
       "      <td>36.14</td>\n",
       "      <td>9.55</td>\n",
       "      <td>44.81</td>\n",
       "      <td>0.43</td>\n",
       "      <td>90.23</td>\n",
       "      <td>37.42</td>\n",
       "      <td>44.18</td>\n",
       "      <td>64.40</td>\n",
       "      <td>297.29</td>\n",
       "      <td>41.16</td>\n",
       "      <td>11.70</td>\n",
       "    </tr>\n",
       "    <tr>\n",
       "      <th>\"</th>\n",
       "      <td>0.68</td>\n",
       "      <td>4.22</td>\n",
       "      <td>2.41</td>\n",
       "      <td>0.06</td>\n",
       "      <td>152.35</td>\n",
       "      <td>0.06</td>\n",
       "      <td>0.06</td>\n",
       "      <td>0.06</td>\n",
       "      <td>0.45</td>\n",
       "      <td>0.68</td>\n",
       "      <td>8.42</td>\n",
       "      <td>11.42</td>\n",
       "      <td>0.07</td>\n",
       "      <td>62.72</td>\n",
       "      <td>12.27</td>\n",
       "      <td>0.06</td>\n",
       "    </tr>\n",
       "    <tr>\n",
       "      <th>#</th>\n",
       "      <td>0.06</td>\n",
       "      <td>0.06</td>\n",
       "      <td>0.06</td>\n",
       "      <td>0.06</td>\n",
       "      <td>0.06</td>\n",
       "      <td>2.07</td>\n",
       "      <td>0.06</td>\n",
       "      <td>0.06</td>\n",
       "      <td>0.06</td>\n",
       "      <td>0.06</td>\n",
       "      <td>0.06</td>\n",
       "      <td>0.06</td>\n",
       "      <td>1.07</td>\n",
       "      <td>4.05</td>\n",
       "      <td>0.06</td>\n",
       "      <td>0.06</td>\n",
       "    </tr>\n",
       "    <tr>\n",
       "      <th>#150</th>\n",
       "      <td>0.06</td>\n",
       "      <td>0.06</td>\n",
       "      <td>0.06</td>\n",
       "      <td>0.06</td>\n",
       "      <td>0.06</td>\n",
       "      <td>0.06</td>\n",
       "      <td>0.06</td>\n",
       "      <td>0.06</td>\n",
       "      <td>1.06</td>\n",
       "      <td>0.06</td>\n",
       "      <td>0.06</td>\n",
       "      <td>0.06</td>\n",
       "      <td>0.06</td>\n",
       "      <td>0.06</td>\n",
       "      <td>0.06</td>\n",
       "      <td>0.06</td>\n",
       "    </tr>\n",
       "    <tr>\n",
       "      <th>#5000</th>\n",
       "      <td>0.06</td>\n",
       "      <td>0.06</td>\n",
       "      <td>0.06</td>\n",
       "      <td>0.06</td>\n",
       "      <td>0.06</td>\n",
       "      <td>0.06</td>\n",
       "      <td>0.06</td>\n",
       "      <td>0.06</td>\n",
       "      <td>0.06</td>\n",
       "      <td>3.06</td>\n",
       "      <td>0.06</td>\n",
       "      <td>0.06</td>\n",
       "      <td>0.06</td>\n",
       "      <td>0.06</td>\n",
       "      <td>0.06</td>\n",
       "      <td>0.06</td>\n",
       "    </tr>\n",
       "    <tr>\n",
       "      <th>$</th>\n",
       "      <td>1.09</td>\n",
       "      <td>2.99</td>\n",
       "      <td>0.06</td>\n",
       "      <td>0.06</td>\n",
       "      <td>1.13</td>\n",
       "      <td>0.06</td>\n",
       "      <td>0.06</td>\n",
       "      <td>1.06</td>\n",
       "      <td>8.68</td>\n",
       "      <td>0.06</td>\n",
       "      <td>0.06</td>\n",
       "      <td>1.06</td>\n",
       "      <td>0.06</td>\n",
       "      <td>5.42</td>\n",
       "      <td>2.06</td>\n",
       "      <td>0.06</td>\n",
       "    </tr>\n",
       "    <tr>\n",
       "      <th>%</th>\n",
       "      <td>0.06</td>\n",
       "      <td>0.06</td>\n",
       "      <td>0.06</td>\n",
       "      <td>1.06</td>\n",
       "      <td>0.06</td>\n",
       "      <td>4.95</td>\n",
       "      <td>0.06</td>\n",
       "      <td>0.06</td>\n",
       "      <td>0.06</td>\n",
       "      <td>0.06</td>\n",
       "      <td>0.06</td>\n",
       "      <td>2.17</td>\n",
       "      <td>0.06</td>\n",
       "      <td>0.06</td>\n",
       "      <td>2.06</td>\n",
       "      <td>0.06</td>\n",
       "    </tr>\n",
       "    <tr>\n",
       "      <th>&amp;</th>\n",
       "      <td>10.26</td>\n",
       "      <td>0.06</td>\n",
       "      <td>0.06</td>\n",
       "      <td>47.49</td>\n",
       "      <td>22.58</td>\n",
       "      <td>9.97</td>\n",
       "      <td>19.01</td>\n",
       "      <td>0.06</td>\n",
       "      <td>0.06</td>\n",
       "      <td>107.26</td>\n",
       "      <td>10.09</td>\n",
       "      <td>0.06</td>\n",
       "      <td>0.06</td>\n",
       "      <td>50.24</td>\n",
       "      <td>7.42</td>\n",
       "      <td>10.31</td>\n",
       "    </tr>\n",
       "    <tr>\n",
       "      <th>'</th>\n",
       "      <td>0.06</td>\n",
       "      <td>0.06</td>\n",
       "      <td>0.06</td>\n",
       "      <td>0.06</td>\n",
       "      <td>21.08</td>\n",
       "      <td>0.06</td>\n",
       "      <td>0.06</td>\n",
       "      <td>0.06</td>\n",
       "      <td>0.06</td>\n",
       "      <td>3.39</td>\n",
       "      <td>0.06</td>\n",
       "      <td>0.06</td>\n",
       "      <td>0.06</td>\n",
       "      <td>7.87</td>\n",
       "      <td>0.06</td>\n",
       "      <td>127.92</td>\n",
       "    </tr>\n",
       "    <tr>\n",
       "      <th>(</th>\n",
       "      <td>0.06</td>\n",
       "      <td>0.06</td>\n",
       "      <td>0.35</td>\n",
       "      <td>2.16</td>\n",
       "      <td>9.95</td>\n",
       "      <td>0.06</td>\n",
       "      <td>13.42</td>\n",
       "      <td>0.06</td>\n",
       "      <td>0.06</td>\n",
       "      <td>52.09</td>\n",
       "      <td>3.75</td>\n",
       "      <td>0.06</td>\n",
       "      <td>0.06</td>\n",
       "      <td>0.89</td>\n",
       "      <td>4.88</td>\n",
       "      <td>0.06</td>\n",
       "    </tr>\n",
       "  </tbody>\n",
       "</table>\n",
       "</div>"
      ],
      "text/plain": [
       "       topic0  topic1  topic2  topic3  topic4  topic5  topic6  topic7  \\\n",
       "!      184.03   15.00   72.22  394.95   45.48   36.14    9.55   44.81   \n",
       "\"        0.68    4.22    2.41    0.06  152.35    0.06    0.06    0.06   \n",
       "#        0.06    0.06    0.06    0.06    0.06    2.07    0.06    0.06   \n",
       "#150     0.06    0.06    0.06    0.06    0.06    0.06    0.06    0.06   \n",
       "#5000    0.06    0.06    0.06    0.06    0.06    0.06    0.06    0.06   \n",
       "$        1.09    2.99    0.06    0.06    1.13    0.06    0.06    1.06   \n",
       "%        0.06    0.06    0.06    1.06    0.06    4.95    0.06    0.06   \n",
       "&       10.26    0.06    0.06   47.49   22.58    9.97   19.01    0.06   \n",
       "'        0.06    0.06    0.06    0.06   21.08    0.06    0.06    0.06   \n",
       "(        0.06    0.06    0.35    2.16    9.95    0.06   13.42    0.06   \n",
       "\n",
       "       topic8  topic9  topic10  topic11  topic12  topic13  topic14  \\\n",
       "!        0.43   90.23    37.42    44.18    64.40   297.29    41.16   \n",
       "\"        0.45    0.68     8.42    11.42     0.07    62.72    12.27   \n",
       "#        0.06    0.06     0.06     0.06     1.07     4.05     0.06   \n",
       "#150     1.06    0.06     0.06     0.06     0.06     0.06     0.06   \n",
       "#5000    0.06    3.06     0.06     0.06     0.06     0.06     0.06   \n",
       "$        8.68    0.06     0.06     1.06     0.06     5.42     2.06   \n",
       "%        0.06    0.06     0.06     2.17     0.06     0.06     2.06   \n",
       "&        0.06  107.26    10.09     0.06     0.06    50.24     7.42   \n",
       "'        0.06    3.39     0.06     0.06     0.06     7.87     0.06   \n",
       "(        0.06   52.09     3.75     0.06     0.06     0.89     4.88   \n",
       "\n",
       "       topic15  \n",
       "!        11.70  \n",
       "\"         0.06  \n",
       "#         0.06  \n",
       "#150      0.06  \n",
       "#5000     0.06  \n",
       "$         0.06  \n",
       "%         0.06  \n",
       "&        10.31  \n",
       "'       127.92  \n",
       "(         0.06  "
      ]
     },
     "execution_count": 35,
     "metadata": {},
     "output_type": "execute_result"
    }
   ],
   "source": [
    "components.round(2).head(10)"
   ]
  },
  {
   "cell_type": "markdown",
   "metadata": {},
   "source": [
    "'!'被分配到大多数主题中，它其实是topic3中一个重要的部分，在该主题中引号（\"）几乎不起作用.huoxutopic3关注情感的强度或强调，并不太在意数值或者引用。"
   ]
  },
  {
   "cell_type": "code",
   "execution_count": 34,
   "metadata": {},
   "outputs": [
    {
     "data": {
      "text/plain": [
       "!       394.952246\n",
       ".       218.049724\n",
       "to      119.533134\n",
       "u       118.857546\n",
       "call    111.948541\n",
       "£       107.358914\n",
       ",        96.954384\n",
       "*        90.314783\n",
       "your     90.215961\n",
       "is       75.750037\n",
       "Name: topic3, dtype: float64"
      ]
     },
     "execution_count": 34,
     "metadata": {},
     "output_type": "execute_result"
    }
   ],
   "source": [
    "components.topic3.sort_values(ascending=False)[:10]"
   ]
  },
  {
   "cell_type": "markdown",
   "metadata": {},
   "source": [
    "在拟合LDA分类器值钱，需要为所有短消息计算出LDiA主题向量。"
   ]
  },
  {
   "cell_type": "code",
   "execution_count": 36,
   "metadata": {},
   "outputs": [],
   "source": [
    "ldia16_topic_vectors = ldia.transform(bow_docs)\n",
    "ldia16_topic_vectors = pd.DataFrame(ldia16_topic_vectors, index=index, columns=columns)"
   ]
  },
  {
   "cell_type": "markdown",
   "metadata": {},
   "source": [
    "对比于pca,svd.Ldia产生的主题之间分隔更加清晰"
   ]
  },
  {
   "cell_type": "code",
   "execution_count": 39,
   "metadata": {},
   "outputs": [
    {
     "name": "stdout",
     "output_type": "stream",
     "text": [
      "       topic0  topic1  topic2  topic3  topic4  topic5  topic6  topic7  \\\n",
      "sms0     0.00    0.62    0.00    0.00    0.00    0.00    0.00    0.00   \n",
      "sms1     0.01    0.01    0.01    0.01    0.01    0.01    0.01    0.01   \n",
      "sms2!    0.00    0.00    0.00    0.00    0.00    0.00    0.00    0.00   \n",
      "sms3     0.00    0.00    0.00    0.00    0.09    0.00    0.00    0.00   \n",
      "sms4     0.39    0.00    0.33    0.00    0.00    0.00    0.14    0.00   \n",
      "\n",
      "       topic8  topic9  topic10  topic11  topic12  topic13  topic14  \\\n",
      "sms0     0.34    0.00     0.00     0.00     0.00     0.00     0.00   \n",
      "sms1     0.78    0.01     0.01     0.12     0.01     0.01     0.01   \n",
      "sms2!    0.00    0.98     0.00     0.00     0.00     0.00     0.00   \n",
      "sms3     0.85    0.00     0.00     0.00     0.00     0.00     0.00   \n",
      "sms4     0.00    0.00     0.00     0.00     0.09     0.00     0.00   \n",
      "\n",
      "       topic15  \n",
      "sms0      0.00  \n",
      "sms1      0.01  \n",
      "sms2!     0.00  \n",
      "sms3      0.00  \n",
      "sms4      0.00  \n"
     ]
    }
   ],
   "source": [
    "print(ldia16_topic_vectors.round(2).head())   ##round()为返回浮点数x的四舍五入值"
   ]
  },
  {
   "cell_type": "markdown",
   "metadata": {},
   "source": [
    "上述主题之间分隔更加清晰。在为消息分配主题时，会出现很多0.这是使得LDiA主题更容易想同时解释的做法之一"
   ]
  },
  {
   "cell_type": "markdown",
   "metadata": {},
   "source": [
    "下面用LDiA向量来训练LDA模型"
   ]
  },
  {
   "cell_type": "code",
   "execution_count": 40,
   "metadata": {},
   "outputs": [],
   "source": [
    "from sklearn.discriminant_analysis import LinearDiscriminantAnalysis as LDA"
   ]
  },
  {
   "cell_type": "code",
   "execution_count": 42,
   "metadata": {},
   "outputs": [],
   "source": [
    "from sklearn.model_selection import train_test_split"
   ]
  },
  {
   "cell_type": "code",
   "execution_count": 56,
   "metadata": {},
   "outputs": [],
   "source": [
    "x_train,x_test,y_train,y_test=train_test_split(ldia16_topic_vectors,sms.spam,test_size=0.99,random_state=271828)"
   ]
  },
  {
   "cell_type": "code",
   "execution_count": 57,
   "metadata": {},
   "outputs": [
    {
     "data": {
      "text/html": [
       "<div>\n",
       "<style scoped>\n",
       "    .dataframe tbody tr th:only-of-type {\n",
       "        vertical-align: middle;\n",
       "    }\n",
       "\n",
       "    .dataframe tbody tr th {\n",
       "        vertical-align: top;\n",
       "    }\n",
       "\n",
       "    .dataframe thead th {\n",
       "        text-align: right;\n",
       "    }\n",
       "</style>\n",
       "<table border=\"1\" class=\"dataframe\">\n",
       "  <thead>\n",
       "    <tr style=\"text-align: right;\">\n",
       "      <th></th>\n",
       "      <th>topic0</th>\n",
       "      <th>topic1</th>\n",
       "      <th>topic2</th>\n",
       "      <th>topic3</th>\n",
       "      <th>topic4</th>\n",
       "      <th>topic5</th>\n",
       "      <th>topic6</th>\n",
       "      <th>topic7</th>\n",
       "      <th>topic8</th>\n",
       "      <th>topic9</th>\n",
       "      <th>topic10</th>\n",
       "      <th>topic11</th>\n",
       "      <th>topic12</th>\n",
       "      <th>topic13</th>\n",
       "      <th>topic14</th>\n",
       "      <th>topic15</th>\n",
       "    </tr>\n",
       "  </thead>\n",
       "  <tbody>\n",
       "    <tr>\n",
       "      <th>sms0</th>\n",
       "      <td>0.002500</td>\n",
       "      <td>0.620075</td>\n",
       "      <td>0.002500</td>\n",
       "      <td>0.002500</td>\n",
       "      <td>0.002500</td>\n",
       "      <td>0.002500</td>\n",
       "      <td>0.002500</td>\n",
       "      <td>0.002500</td>\n",
       "      <td>0.344925</td>\n",
       "      <td>0.002500</td>\n",
       "      <td>0.002500</td>\n",
       "      <td>0.002500</td>\n",
       "      <td>0.002500</td>\n",
       "      <td>0.002500</td>\n",
       "      <td>0.002500</td>\n",
       "      <td>0.002500</td>\n",
       "    </tr>\n",
       "    <tr>\n",
       "      <th>sms1</th>\n",
       "      <td>0.006944</td>\n",
       "      <td>0.006944</td>\n",
       "      <td>0.006944</td>\n",
       "      <td>0.006944</td>\n",
       "      <td>0.006944</td>\n",
       "      <td>0.006944</td>\n",
       "      <td>0.006944</td>\n",
       "      <td>0.006944</td>\n",
       "      <td>0.781721</td>\n",
       "      <td>0.006944</td>\n",
       "      <td>0.006944</td>\n",
       "      <td>0.121056</td>\n",
       "      <td>0.006944</td>\n",
       "      <td>0.006944</td>\n",
       "      <td>0.006944</td>\n",
       "      <td>0.006944</td>\n",
       "    </tr>\n",
       "    <tr>\n",
       "      <th>sms2!</th>\n",
       "      <td>0.001563</td>\n",
       "      <td>0.001563</td>\n",
       "      <td>0.001563</td>\n",
       "      <td>0.001563</td>\n",
       "      <td>0.001563</td>\n",
       "      <td>0.001563</td>\n",
       "      <td>0.001563</td>\n",
       "      <td>0.001563</td>\n",
       "      <td>0.001563</td>\n",
       "      <td>0.976562</td>\n",
       "      <td>0.001563</td>\n",
       "      <td>0.001563</td>\n",
       "      <td>0.001563</td>\n",
       "      <td>0.001563</td>\n",
       "      <td>0.001563</td>\n",
       "      <td>0.001563</td>\n",
       "    </tr>\n",
       "    <tr>\n",
       "      <th>sms3</th>\n",
       "      <td>0.004464</td>\n",
       "      <td>0.004464</td>\n",
       "      <td>0.004464</td>\n",
       "      <td>0.004464</td>\n",
       "      <td>0.088350</td>\n",
       "      <td>0.004464</td>\n",
       "      <td>0.004464</td>\n",
       "      <td>0.004464</td>\n",
       "      <td>0.849150</td>\n",
       "      <td>0.004464</td>\n",
       "      <td>0.004464</td>\n",
       "      <td>0.004464</td>\n",
       "      <td>0.004464</td>\n",
       "      <td>0.004464</td>\n",
       "      <td>0.004464</td>\n",
       "      <td>0.004464</td>\n",
       "    </tr>\n",
       "    <tr>\n",
       "      <th>sms4</th>\n",
       "      <td>0.394632</td>\n",
       "      <td>0.004167</td>\n",
       "      <td>0.333172</td>\n",
       "      <td>0.004167</td>\n",
       "      <td>0.004167</td>\n",
       "      <td>0.004167</td>\n",
       "      <td>0.136218</td>\n",
       "      <td>0.004167</td>\n",
       "      <td>0.004167</td>\n",
       "      <td>0.004167</td>\n",
       "      <td>0.004167</td>\n",
       "      <td>0.004167</td>\n",
       "      <td>0.085978</td>\n",
       "      <td>0.004167</td>\n",
       "      <td>0.004167</td>\n",
       "      <td>0.004167</td>\n",
       "    </tr>\n",
       "    <tr>\n",
       "      <th>...</th>\n",
       "      <td>...</td>\n",
       "      <td>...</td>\n",
       "      <td>...</td>\n",
       "      <td>...</td>\n",
       "      <td>...</td>\n",
       "      <td>...</td>\n",
       "      <td>...</td>\n",
       "      <td>...</td>\n",
       "      <td>...</td>\n",
       "      <td>...</td>\n",
       "      <td>...</td>\n",
       "      <td>...</td>\n",
       "      <td>...</td>\n",
       "      <td>...</td>\n",
       "      <td>...</td>\n",
       "      <td>...</td>\n",
       "    </tr>\n",
       "    <tr>\n",
       "      <th>sms4832!</th>\n",
       "      <td>0.001563</td>\n",
       "      <td>0.001563</td>\n",
       "      <td>0.001563</td>\n",
       "      <td>0.927395</td>\n",
       "      <td>0.001563</td>\n",
       "      <td>0.001563</td>\n",
       "      <td>0.001563</td>\n",
       "      <td>0.001563</td>\n",
       "      <td>0.001563</td>\n",
       "      <td>0.050730</td>\n",
       "      <td>0.001563</td>\n",
       "      <td>0.001563</td>\n",
       "      <td>0.001563</td>\n",
       "      <td>0.001563</td>\n",
       "      <td>0.001563</td>\n",
       "      <td>0.001563</td>\n",
       "    </tr>\n",
       "    <tr>\n",
       "      <th>sms4833</th>\n",
       "      <td>0.006250</td>\n",
       "      <td>0.006250</td>\n",
       "      <td>0.006250</td>\n",
       "      <td>0.006250</td>\n",
       "      <td>0.006250</td>\n",
       "      <td>0.589556</td>\n",
       "      <td>0.006250</td>\n",
       "      <td>0.006250</td>\n",
       "      <td>0.322944</td>\n",
       "      <td>0.006250</td>\n",
       "      <td>0.006250</td>\n",
       "      <td>0.006250</td>\n",
       "      <td>0.006250</td>\n",
       "      <td>0.006250</td>\n",
       "      <td>0.006250</td>\n",
       "      <td>0.006250</td>\n",
       "    </tr>\n",
       "    <tr>\n",
       "      <th>sms4834</th>\n",
       "      <td>0.003906</td>\n",
       "      <td>0.003906</td>\n",
       "      <td>0.494008</td>\n",
       "      <td>0.003906</td>\n",
       "      <td>0.003906</td>\n",
       "      <td>0.003906</td>\n",
       "      <td>0.003906</td>\n",
       "      <td>0.003906</td>\n",
       "      <td>0.354560</td>\n",
       "      <td>0.003906</td>\n",
       "      <td>0.003906</td>\n",
       "      <td>0.003906</td>\n",
       "      <td>0.003906</td>\n",
       "      <td>0.003906</td>\n",
       "      <td>0.003906</td>\n",
       "      <td>0.100650</td>\n",
       "    </tr>\n",
       "    <tr>\n",
       "      <th>sms4835</th>\n",
       "      <td>0.002315</td>\n",
       "      <td>0.002315</td>\n",
       "      <td>0.681962</td>\n",
       "      <td>0.002315</td>\n",
       "      <td>0.002315</td>\n",
       "      <td>0.002315</td>\n",
       "      <td>0.002315</td>\n",
       "      <td>0.002315</td>\n",
       "      <td>0.002315</td>\n",
       "      <td>0.285630</td>\n",
       "      <td>0.002315</td>\n",
       "      <td>0.002315</td>\n",
       "      <td>0.002315</td>\n",
       "      <td>0.002315</td>\n",
       "      <td>0.002315</td>\n",
       "      <td>0.002315</td>\n",
       "    </tr>\n",
       "    <tr>\n",
       "      <th>sms4836</th>\n",
       "      <td>0.007813</td>\n",
       "      <td>0.007813</td>\n",
       "      <td>0.007813</td>\n",
       "      <td>0.007813</td>\n",
       "      <td>0.007813</td>\n",
       "      <td>0.007813</td>\n",
       "      <td>0.007813</td>\n",
       "      <td>0.007813</td>\n",
       "      <td>0.007813</td>\n",
       "      <td>0.007813</td>\n",
       "      <td>0.882812</td>\n",
       "      <td>0.007813</td>\n",
       "      <td>0.007813</td>\n",
       "      <td>0.007813</td>\n",
       "      <td>0.007813</td>\n",
       "      <td>0.007813</td>\n",
       "    </tr>\n",
       "  </tbody>\n",
       "</table>\n",
       "<p>4837 rows × 16 columns</p>\n",
       "</div>"
      ],
      "text/plain": [
       "            topic0    topic1    topic2    topic3    topic4    topic5  \\\n",
       "sms0      0.002500  0.620075  0.002500  0.002500  0.002500  0.002500   \n",
       "sms1      0.006944  0.006944  0.006944  0.006944  0.006944  0.006944   \n",
       "sms2!     0.001563  0.001563  0.001563  0.001563  0.001563  0.001563   \n",
       "sms3      0.004464  0.004464  0.004464  0.004464  0.088350  0.004464   \n",
       "sms4      0.394632  0.004167  0.333172  0.004167  0.004167  0.004167   \n",
       "...            ...       ...       ...       ...       ...       ...   \n",
       "sms4832!  0.001563  0.001563  0.001563  0.927395  0.001563  0.001563   \n",
       "sms4833   0.006250  0.006250  0.006250  0.006250  0.006250  0.589556   \n",
       "sms4834   0.003906  0.003906  0.494008  0.003906  0.003906  0.003906   \n",
       "sms4835   0.002315  0.002315  0.681962  0.002315  0.002315  0.002315   \n",
       "sms4836   0.007813  0.007813  0.007813  0.007813  0.007813  0.007813   \n",
       "\n",
       "            topic6    topic7    topic8    topic9   topic10   topic11  \\\n",
       "sms0      0.002500  0.002500  0.344925  0.002500  0.002500  0.002500   \n",
       "sms1      0.006944  0.006944  0.781721  0.006944  0.006944  0.121056   \n",
       "sms2!     0.001563  0.001563  0.001563  0.976562  0.001563  0.001563   \n",
       "sms3      0.004464  0.004464  0.849150  0.004464  0.004464  0.004464   \n",
       "sms4      0.136218  0.004167  0.004167  0.004167  0.004167  0.004167   \n",
       "...            ...       ...       ...       ...       ...       ...   \n",
       "sms4832!  0.001563  0.001563  0.001563  0.050730  0.001563  0.001563   \n",
       "sms4833   0.006250  0.006250  0.322944  0.006250  0.006250  0.006250   \n",
       "sms4834   0.003906  0.003906  0.354560  0.003906  0.003906  0.003906   \n",
       "sms4835   0.002315  0.002315  0.002315  0.285630  0.002315  0.002315   \n",
       "sms4836   0.007813  0.007813  0.007813  0.007813  0.882812  0.007813   \n",
       "\n",
       "           topic12   topic13   topic14   topic15  \n",
       "sms0      0.002500  0.002500  0.002500  0.002500  \n",
       "sms1      0.006944  0.006944  0.006944  0.006944  \n",
       "sms2!     0.001563  0.001563  0.001563  0.001563  \n",
       "sms3      0.004464  0.004464  0.004464  0.004464  \n",
       "sms4      0.085978  0.004167  0.004167  0.004167  \n",
       "...            ...       ...       ...       ...  \n",
       "sms4832!  0.001563  0.001563  0.001563  0.001563  \n",
       "sms4833   0.006250  0.006250  0.006250  0.006250  \n",
       "sms4834   0.003906  0.003906  0.003906  0.100650  \n",
       "sms4835   0.002315  0.002315  0.002315  0.002315  \n",
       "sms4836   0.007813  0.007813  0.007813  0.007813  \n",
       "\n",
       "[4837 rows x 16 columns]"
      ]
     },
     "execution_count": 57,
     "metadata": {},
     "output_type": "execute_result"
    }
   ],
   "source": [
    "ldia16_topic_vectors"
   ]
  },
  {
   "cell_type": "code",
   "execution_count": 58,
   "metadata": {},
   "outputs": [
    {
     "data": {
      "text/plain": [
       "sms0        0\n",
       "sms1        0\n",
       "sms2!       1\n",
       "sms3        0\n",
       "sms4        0\n",
       "           ..\n",
       "sms4832!    1\n",
       "sms4833     0\n",
       "sms4834     0\n",
       "sms4835     0\n",
       "sms4836     0\n",
       "Name: spam, Length: 4837, dtype: int64"
      ]
     },
     "execution_count": 58,
     "metadata": {},
     "output_type": "execute_result"
    }
   ],
   "source": [
    "sms.spam"
   ]
  },
  {
   "cell_type": "code",
   "execution_count": 60,
   "metadata": {},
   "outputs": [
    {
     "data": {
      "text/plain": [
       "(4789, 16)"
      ]
     },
     "execution_count": 60,
     "metadata": {},
     "output_type": "execute_result"
    }
   ],
   "source": [
    "x_test.shape"
   ]
  },
  {
   "cell_type": "code",
   "execution_count": 61,
   "metadata": {},
   "outputs": [
    {
     "data": {
      "text/plain": [
       "(4789,)"
      ]
     },
     "execution_count": 61,
     "metadata": {},
     "output_type": "execute_result"
    }
   ],
   "source": [
    "y_test.shape"
   ]
  },
  {
   "cell_type": "code",
   "execution_count": 62,
   "metadata": {},
   "outputs": [],
   "source": [
    "lda=LDA(n_components=1)  ##"
   ]
  },
  {
   "cell_type": "code",
   "execution_count": 63,
   "metadata": {},
   "outputs": [],
   "source": [
    "lda=lda.fit(x_train,y_train)"
   ]
  },
  {
   "cell_type": "code",
   "execution_count": 64,
   "metadata": {},
   "outputs": [],
   "source": [
    "sms['ldial6_spam']=lda.predict(ldia16_topic_vectors)"
   ]
  },
  {
   "cell_type": "code",
   "execution_count": 65,
   "metadata": {},
   "outputs": [
    {
     "data": {
      "text/plain": [
       "0.8730423888076843"
      ]
     },
     "execution_count": 65,
     "metadata": {},
     "output_type": "execute_result"
    }
   ],
   "source": [
    "lda.score(x_test,y_test)"
   ]
  },
  {
   "cell_type": "markdown",
   "metadata": {},
   "source": [
    "改变训练集测试集比例"
   ]
  },
  {
   "cell_type": "code",
   "execution_count": 66,
   "metadata": {},
   "outputs": [],
   "source": [
    "x_train,x_test,y_train,y_test=train_test_split(ldia16_topic_vectors,sms.spam,test_size=0.8,random_state=271828)"
   ]
  },
  {
   "cell_type": "code",
   "execution_count": 67,
   "metadata": {},
   "outputs": [],
   "source": [
    "lda=LDA(n_components=1)  ##"
   ]
  },
  {
   "cell_type": "code",
   "execution_count": 68,
   "metadata": {},
   "outputs": [],
   "source": [
    "lda=lda.fit(x_train,y_train)"
   ]
  },
  {
   "cell_type": "code",
   "execution_count": 69,
   "metadata": {},
   "outputs": [],
   "source": [
    "sms['ldial6_spam']=lda.predict(ldia16_topic_vectors)"
   ]
  },
  {
   "cell_type": "code",
   "execution_count": 70,
   "metadata": {},
   "outputs": [
    {
     "data": {
      "text/plain": [
       "0.9304909560723514"
      ]
     },
     "execution_count": 70,
     "metadata": {},
     "output_type": "execute_result"
    }
   ],
   "source": [
    "lda.score(x_test,y_test)"
   ]
  },
  {
   "cell_type": "code",
   "execution_count": null,
   "metadata": {},
   "outputs": [],
   "source": []
  }
 ],
 "metadata": {
  "kernelspec": {
   "display_name": "Python 3",
   "language": "python",
   "name": "python3"
  },
  "language_info": {
   "codemirror_mode": {
    "name": "ipython",
    "version": 3
   },
   "file_extension": ".py",
   "mimetype": "text/x-python",
   "name": "python",
   "nbconvert_exporter": "python",
   "pygments_lexer": "ipython3",
   "version": "3.6.9"
  }
 },
 "nbformat": 4,
 "nbformat_minor": 4
}
